{
 "cells": [
  {
   "attachments": {},
   "cell_type": "markdown",
   "metadata": {},
   "source": [
    "# IMU Coarse Calibration using Local Gravity Vector"
   ]
  },
  {
   "attachments": {},
   "cell_type": "markdown",
   "metadata": {},
   "source": [
    "Notebook to implement and test the *Inertial Navigation Unit* calibration framework presented by:\n",
    "1. *D. Tedaldi, A. Pretto and E. Menegatti, \"A robust and easy to implement method for IMU calibration without external equipments,\" 2014 IEEE International Conference on Robotics and Automation (ICRA), Hong Kong, China, 2014, pp. 3042-3049, doi: 10.1109/ICRA.2014.6907297.* "
   ]
  },
  {
   "cell_type": "code",
   "execution_count": 1,
   "metadata": {},
   "outputs": [],
   "source": [
    "import os\n",
    "import numpy as np\n",
    "import pandas as pd\n",
    "import math"
   ]
  },
  {
   "cell_type": "code",
   "execution_count": 18,
   "metadata": {},
   "outputs": [],
   "source": [
    "import matplotlib.pyplot as plt\n",
    "plt.style.use('seaborn-poster')\n",
    "plt.rcParams['figure.figsize'] = (14,6)"
   ]
  },
  {
   "cell_type": "code",
   "execution_count": 3,
   "metadata": {},
   "outputs": [],
   "source": [
    "path_data = os.path.join('data/AVPlots1.csv' )\n",
    "headers = ['time', 'ax', 'ay', 'az', 'gx', 'gy', 'gz']"
   ]
  },
  {
   "cell_type": "code",
   "execution_count": 4,
   "metadata": {},
   "outputs": [
    {
     "data": {
      "text/html": [
       "<div>\n",
       "<style scoped>\n",
       "    .dataframe tbody tr th:only-of-type {\n",
       "        vertical-align: middle;\n",
       "    }\n",
       "\n",
       "    .dataframe tbody tr th {\n",
       "        vertical-align: top;\n",
       "    }\n",
       "\n",
       "    .dataframe thead th {\n",
       "        text-align: right;\n",
       "    }\n",
       "</style>\n",
       "<table border=\"1\" class=\"dataframe\">\n",
       "  <thead>\n",
       "    <tr style=\"text-align: right;\">\n",
       "      <th></th>\n",
       "      <th>time</th>\n",
       "      <th>ax</th>\n",
       "      <th>ay</th>\n",
       "      <th>az</th>\n",
       "      <th>gx</th>\n",
       "      <th>gy</th>\n",
       "      <th>gz</th>\n",
       "    </tr>\n",
       "  </thead>\n",
       "  <tbody>\n",
       "    <tr>\n",
       "      <th>0</th>\n",
       "      <td>1.676352e+09</td>\n",
       "      <td>-966</td>\n",
       "      <td>-500</td>\n",
       "      <td>16534</td>\n",
       "      <td>-120</td>\n",
       "      <td>106</td>\n",
       "      <td>-29</td>\n",
       "    </tr>\n",
       "    <tr>\n",
       "      <th>1</th>\n",
       "      <td>1.676352e+09</td>\n",
       "      <td>-972</td>\n",
       "      <td>-506</td>\n",
       "      <td>16553</td>\n",
       "      <td>-121</td>\n",
       "      <td>106</td>\n",
       "      <td>-27</td>\n",
       "    </tr>\n",
       "    <tr>\n",
       "      <th>2</th>\n",
       "      <td>1.676352e+09</td>\n",
       "      <td>-968</td>\n",
       "      <td>-491</td>\n",
       "      <td>16570</td>\n",
       "      <td>-122</td>\n",
       "      <td>102</td>\n",
       "      <td>-24</td>\n",
       "    </tr>\n",
       "    <tr>\n",
       "      <th>3</th>\n",
       "      <td>1.676352e+09</td>\n",
       "      <td>-977</td>\n",
       "      <td>-493</td>\n",
       "      <td>16546</td>\n",
       "      <td>-122</td>\n",
       "      <td>104</td>\n",
       "      <td>-25</td>\n",
       "    </tr>\n",
       "    <tr>\n",
       "      <th>4</th>\n",
       "      <td>1.676352e+09</td>\n",
       "      <td>-968</td>\n",
       "      <td>-483</td>\n",
       "      <td>16551</td>\n",
       "      <td>-122</td>\n",
       "      <td>104</td>\n",
       "      <td>-30</td>\n",
       "    </tr>\n",
       "  </tbody>\n",
       "</table>\n",
       "</div>"
      ],
      "text/plain": [
       "           time   ax   ay     az   gx   gy  gz\n",
       "0  1.676352e+09 -966 -500  16534 -120  106 -29\n",
       "1  1.676352e+09 -972 -506  16553 -121  106 -27\n",
       "2  1.676352e+09 -968 -491  16570 -122  102 -24\n",
       "3  1.676352e+09 -977 -493  16546 -122  104 -25\n",
       "4  1.676352e+09 -968 -483  16551 -122  104 -30"
      ]
     },
     "execution_count": 4,
     "metadata": {},
     "output_type": "execute_result"
    }
   ],
   "source": [
    "df = pd.read_csv(path_data, names=headers)\n",
    "df.head()"
   ]
  },
  {
   "cell_type": "code",
   "execution_count": 5,
   "metadata": {},
   "outputs": [
    {
     "name": "stdout",
     "output_type": "stream",
     "text": [
      "<class 'pandas.core.frame.DataFrame'>\n",
      "RangeIndex: 618131 entries, 0 to 618130\n",
      "Data columns (total 7 columns):\n",
      " #   Column  Non-Null Count   Dtype  \n",
      "---  ------  --------------   -----  \n",
      " 0   time    618131 non-null  float64\n",
      " 1   ax      618131 non-null  int64  \n",
      " 2   ay      618131 non-null  int64  \n",
      " 3   az      618131 non-null  int64  \n",
      " 4   gx      618131 non-null  int64  \n",
      " 5   gy      618131 non-null  int64  \n",
      " 6   gz      618131 non-null  int64  \n",
      "dtypes: float64(1), int64(6)\n",
      "memory usage: 33.0 MB\n"
     ]
    }
   ],
   "source": [
    "df.info()"
   ]
  },
  {
   "cell_type": "code",
   "execution_count": 8,
   "metadata": {},
   "outputs": [],
   "source": [
    "df['time'] = df['time'] - df['time'].loc[0]"
   ]
  },
  {
   "attachments": {},
   "cell_type": "markdown",
   "metadata": {},
   "source": [
    "From here initialization period $T_{init}$ = 60s."
   ]
  },
  {
   "cell_type": "code",
   "execution_count": 13,
   "metadata": {},
   "outputs": [],
   "source": [
    "def windowedVariance(arrAx, arrAy, arrAz, tw=2, fs=100):\n",
    "    \n",
    "    winLen = fs*tw                  # Data Point in Window\n",
    "    halfWin = int(winLen/2)         # Half window for centered variance\n",
    "    arrLen = arrAx.size\n",
    "    \n",
    "    arrAx = np.copy(arrAx)\n",
    "    arrAy = np.copy(arrAy)\n",
    "    arrAz = np.copy(arrAz)\n",
    "\n",
    "    # Add head and tail to dataset (hold) for windowed methods\n",
    "    arrAx = np.concatenate((arrAx[0] * np.ones(halfWin), arrAx, arrAx[-1] * np.ones(halfWin)))\n",
    "    arrAy = np.concatenate((arrAy[0] * np.ones(halfWin), arrAy, arrAx[-1] * np.ones(halfWin)))\n",
    "    arrAz = np.concatenate((arrAz[0] * np.ones(halfWin), arrAz, arrAy[-1] * np.ones(halfWin)))\n",
    "\n",
    "    varArr = np.empty(arrLen)\n",
    "\n",
    "    for i in range(halfWin, arrLen-halfWin):\n",
    "        varArr[i] = math.sqrt(\n",
    "                        math.pow(np.var(arrAx[i-halfWin:i+halfWin]),2) + \\\n",
    "                        math.pow(np.var(arrAy[i-halfWin:i+halfWin]),2) + \\\n",
    "                        math.pow(np.var(arrAz[i-halfWin:i+halfWin]), 2)\n",
    "        )\n",
    "    \n",
    "    return varArr"
   ]
  },
  {
   "cell_type": "code",
   "execution_count": 14,
   "metadata": {},
   "outputs": [],
   "source": [
    "%timeit\n",
    "windwdVarArr = windowedVariance(np.array(df['ax']), np.array(df['ay']), np.array(df['az']))"
   ]
  },
  {
   "cell_type": "code",
   "execution_count": 25,
   "metadata": {},
   "outputs": [
    {
     "data": {
      "text/plain": [
       "Text(0.5, 0, 'time/s')"
      ]
     },
     "execution_count": 25,
     "metadata": {},
     "output_type": "execute_result"
    },
    {
     "data": {
      "image/png": "[encoded data removed]",
      "text/plain": [
       "<Figure size 1008x432 with 1 Axes>"
      ]
     },
     "metadata": {
      "needs_background": "light"
     },
     "output_type": "display_data"
    }
   ],
   "source": [
    "plt.plot(windwdVarArr)\n",
    "plt.grid(True, which='both',ls='-',color='0.65')\n",
    "plt.ylim([100, 300])\n",
    "plt.ylabel(r'Variance / $\\sigma(t)$')\n",
    "plt.xlabel('time / s')"
   ]
  }
 ],
 "metadata": {
  "kernelspec": {
   "display_name": "base",
   "language": "python",
   "name": "python3"
  },
  "language_info": {
   "codemirror_mode": {
    "name": "ipython",
    "version": 3
   },
   "file_extension": ".py",
   "mimetype": "text/x-python",
   "name": "python",
   "nbconvert_exporter": "python",
   "pygments_lexer": "ipython3",
   "version": "3.9.7"
  },
  "orig_nbformat": 4,
  "vscode": {
   "interpreter": {
    "hash": "ad2bdc8ecc057115af97d19610ffacc2b4e99fae6737bb82f5d7fb13d2f2c186"
   }
  }
 },
 "nbformat": 4,
 "nbformat_minor": 2
}
