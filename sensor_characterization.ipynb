{
 "cells": [
  {
   "attachments": {},
   "cell_type": "markdown",
   "metadata": {},
   "source": [
    "# Characterization of Gyroscope Noise using Allan Deviation Plots"
   ]
  },
  {
   "cell_type": "code",
   "execution_count": 11,
   "metadata": {},
   "outputs": [],
   "source": [
    "import os\n",
    "import numpy as np\n",
    "import pandas as pd\n",
    "import math"
   ]
  },
  {
   "cell_type": "code",
   "execution_count": 12,
   "metadata": {},
   "outputs": [],
   "source": [
    "import matplotlib.pyplot as plt\n",
    "plt.style.use('seaborn-poster')\n",
    "plt.rcParams['figure.figsize'] = (14,6)"
   ]
  },
  {
   "cell_type": "code",
   "execution_count": 13,
   "metadata": {},
   "outputs": [],
   "source": [
    "path_data = os.path.join('data/03AvData.csv' )\n",
    "headers = ['time', 'ax', 'ay', 'az', 'gx', 'gy', 'gz']"
   ]
  },
  {
   "cell_type": "code",
   "execution_count": 14,
   "metadata": {},
   "outputs": [
    {
     "data": {
      "text/html": [
       "<div>\n",
       "<style scoped>\n",
       "    .dataframe tbody tr th:only-of-type {\n",
       "        vertical-align: middle;\n",
       "    }\n",
       "\n",
       "    .dataframe tbody tr th {\n",
       "        vertical-align: top;\n",
       "    }\n",
       "\n",
       "    .dataframe thead th {\n",
       "        text-align: right;\n",
       "    }\n",
       "</style>\n",
       "<table border=\"1\" class=\"dataframe\">\n",
       "  <thead>\n",
       "    <tr style=\"text-align: right;\">\n",
       "      <th></th>\n",
       "      <th>time</th>\n",
       "      <th>ax</th>\n",
       "      <th>ay</th>\n",
       "      <th>az</th>\n",
       "      <th>gx</th>\n",
       "      <th>gy</th>\n",
       "      <th>gz</th>\n",
       "    </tr>\n",
       "  </thead>\n",
       "  <tbody>\n",
       "    <tr>\n",
       "      <th>0</th>\n",
       "      <td>1.676368e+09</td>\n",
       "      <td>-182</td>\n",
       "      <td>-522</td>\n",
       "      <td>16449</td>\n",
       "      <td>-128</td>\n",
       "      <td>106</td>\n",
       "      <td>-20</td>\n",
       "    </tr>\n",
       "    <tr>\n",
       "      <th>1</th>\n",
       "      <td>1.676368e+09</td>\n",
       "      <td>-190</td>\n",
       "      <td>-526</td>\n",
       "      <td>16472</td>\n",
       "      <td>-127</td>\n",
       "      <td>109</td>\n",
       "      <td>-21</td>\n",
       "    </tr>\n",
       "    <tr>\n",
       "      <th>2</th>\n",
       "      <td>1.676368e+09</td>\n",
       "      <td>-182</td>\n",
       "      <td>-538</td>\n",
       "      <td>16482</td>\n",
       "      <td>-123</td>\n",
       "      <td>108</td>\n",
       "      <td>-16</td>\n",
       "    </tr>\n",
       "    <tr>\n",
       "      <th>3</th>\n",
       "      <td>1.676368e+09</td>\n",
       "      <td>-186</td>\n",
       "      <td>-545</td>\n",
       "      <td>16471</td>\n",
       "      <td>-124</td>\n",
       "      <td>105</td>\n",
       "      <td>-16</td>\n",
       "    </tr>\n",
       "    <tr>\n",
       "      <th>4</th>\n",
       "      <td>1.676368e+09</td>\n",
       "      <td>-196</td>\n",
       "      <td>-535</td>\n",
       "      <td>16475</td>\n",
       "      <td>-122</td>\n",
       "      <td>111</td>\n",
       "      <td>-19</td>\n",
       "    </tr>\n",
       "  </tbody>\n",
       "</table>\n",
       "</div>"
      ],
      "text/plain": [
       "           time   ax   ay     az   gx   gy  gz\n",
       "0  1.676368e+09 -182 -522  16449 -128  106 -20\n",
       "1  1.676368e+09 -190 -526  16472 -127  109 -21\n",
       "2  1.676368e+09 -182 -538  16482 -123  108 -16\n",
       "3  1.676368e+09 -186 -545  16471 -124  105 -16\n",
       "4  1.676368e+09 -196 -535  16475 -122  111 -19"
      ]
     },
     "execution_count": 14,
     "metadata": {},
     "output_type": "execute_result"
    }
   ],
   "source": [
    "df = pd.read_csv(path_data, names=headers)\n",
    "df.head()"
   ]
  },
  {
   "cell_type": "code",
   "execution_count": 15,
   "metadata": {},
   "outputs": [
    {
     "name": "stdout",
     "output_type": "stream",
     "text": [
      "<class 'pandas.core.frame.DataFrame'>\n",
      "RangeIndex: 2755158 entries, 0 to 2755157\n",
      "Data columns (total 7 columns):\n",
      " #   Column  Dtype  \n",
      "---  ------  -----  \n",
      " 0   time    float64\n",
      " 1   ax      int64  \n",
      " 2   ay      int64  \n",
      " 3   az      int64  \n",
      " 4   gx      int64  \n",
      " 5   gy      int64  \n",
      " 6   gz      int64  \n",
      "dtypes: float64(1), int64(6)\n",
      "memory usage: 147.1 MB\n"
     ]
    }
   ],
   "source": [
    "df.info()"
   ]
  },
  {
   "cell_type": "code",
   "execution_count": 16,
   "metadata": {},
   "outputs": [
    {
     "data": {
      "text/html": [
       "<div>\n",
       "<style scoped>\n",
       "    .dataframe tbody tr th:only-of-type {\n",
       "        vertical-align: middle;\n",
       "    }\n",
       "\n",
       "    .dataframe tbody tr th {\n",
       "        vertical-align: top;\n",
       "    }\n",
       "\n",
       "    .dataframe thead th {\n",
       "        text-align: right;\n",
       "    }\n",
       "</style>\n",
       "<table border=\"1\" class=\"dataframe\">\n",
       "  <thead>\n",
       "    <tr style=\"text-align: right;\">\n",
       "      <th></th>\n",
       "      <th>time</th>\n",
       "      <th>ax</th>\n",
       "      <th>ay</th>\n",
       "      <th>az</th>\n",
       "      <th>gx</th>\n",
       "      <th>gy</th>\n",
       "      <th>gz</th>\n",
       "      <th>ax_g</th>\n",
       "      <th>ay_g</th>\n",
       "      <th>az_g</th>\n",
       "      <th>gx_dps</th>\n",
       "      <th>gy_dps</th>\n",
       "      <th>gz_dps</th>\n",
       "    </tr>\n",
       "  </thead>\n",
       "  <tbody>\n",
       "    <tr>\n",
       "      <th>0</th>\n",
       "      <td>1.676368e+09</td>\n",
       "      <td>-182</td>\n",
       "      <td>-522</td>\n",
       "      <td>16449</td>\n",
       "      <td>-128</td>\n",
       "      <td>106</td>\n",
       "      <td>-20</td>\n",
       "      <td>-0.011078</td>\n",
       "      <td>-0.031830</td>\n",
       "      <td>1.004013</td>\n",
       "      <td>-0.972763</td>\n",
       "      <td>0.812543</td>\n",
       "      <td>-0.148775</td>\n",
       "    </tr>\n",
       "    <tr>\n",
       "      <th>1</th>\n",
       "      <td>1.676368e+09</td>\n",
       "      <td>-190</td>\n",
       "      <td>-526</td>\n",
       "      <td>16472</td>\n",
       "      <td>-127</td>\n",
       "      <td>109</td>\n",
       "      <td>-21</td>\n",
       "      <td>-0.011566</td>\n",
       "      <td>-0.032074</td>\n",
       "      <td>1.005417</td>\n",
       "      <td>-0.965133</td>\n",
       "      <td>0.835431</td>\n",
       "      <td>-0.156405</td>\n",
       "    </tr>\n",
       "    <tr>\n",
       "      <th>2</th>\n",
       "      <td>1.676368e+09</td>\n",
       "      <td>-182</td>\n",
       "      <td>-538</td>\n",
       "      <td>16482</td>\n",
       "      <td>-123</td>\n",
       "      <td>108</td>\n",
       "      <td>-16</td>\n",
       "      <td>-0.011078</td>\n",
       "      <td>-0.032807</td>\n",
       "      <td>1.006027</td>\n",
       "      <td>-0.934615</td>\n",
       "      <td>0.827802</td>\n",
       "      <td>-0.118257</td>\n",
       "    </tr>\n",
       "    <tr>\n",
       "      <th>3</th>\n",
       "      <td>1.676368e+09</td>\n",
       "      <td>-186</td>\n",
       "      <td>-545</td>\n",
       "      <td>16471</td>\n",
       "      <td>-124</td>\n",
       "      <td>105</td>\n",
       "      <td>-16</td>\n",
       "      <td>-0.011322</td>\n",
       "      <td>-0.033234</td>\n",
       "      <td>1.005356</td>\n",
       "      <td>-0.942245</td>\n",
       "      <td>0.804913</td>\n",
       "      <td>-0.118257</td>\n",
       "    </tr>\n",
       "    <tr>\n",
       "      <th>4</th>\n",
       "      <td>1.676368e+09</td>\n",
       "      <td>-196</td>\n",
       "      <td>-535</td>\n",
       "      <td>16475</td>\n",
       "      <td>-122</td>\n",
       "      <td>111</td>\n",
       "      <td>-19</td>\n",
       "      <td>-0.011933</td>\n",
       "      <td>-0.032624</td>\n",
       "      <td>1.005600</td>\n",
       "      <td>-0.926986</td>\n",
       "      <td>0.850690</td>\n",
       "      <td>-0.141146</td>\n",
       "    </tr>\n",
       "  </tbody>\n",
       "</table>\n",
       "</div>"
      ],
      "text/plain": [
       "           time   ax   ay     az   gx   gy  gz      ax_g      ay_g      az_g  \\\n",
       "0  1.676368e+09 -182 -522  16449 -128  106 -20 -0.011078 -0.031830  1.004013   \n",
       "1  1.676368e+09 -190 -526  16472 -127  109 -21 -0.011566 -0.032074  1.005417   \n",
       "2  1.676368e+09 -182 -538  16482 -123  108 -16 -0.011078 -0.032807  1.006027   \n",
       "3  1.676368e+09 -186 -545  16471 -124  105 -16 -0.011322 -0.033234  1.005356   \n",
       "4  1.676368e+09 -196 -535  16475 -122  111 -19 -0.011933 -0.032624  1.005600   \n",
       "\n",
       "     gx_dps    gy_dps    gz_dps  \n",
       "0 -0.972763  0.812543 -0.148775  \n",
       "1 -0.965133  0.835431 -0.156405  \n",
       "2 -0.934615  0.827802 -0.118257  \n",
       "3 -0.942245  0.804913 -0.118257  \n",
       "4 -0.926986  0.850690 -0.141146  "
      ]
     },
     "execution_count": 16,
     "metadata": {},
     "output_type": "execute_result"
    }
   ],
   "source": [
    "# IMU data read through 16-bit signed A/D converter\n",
    "IMU_MAX = 32767\n",
    "IMU_MIN = -32768\n",
    "IMU_RANGE = IMU_MAX - IMU_MIN\n",
    "\n",
    "# Gyro reads in range +- 150 dps\n",
    "GYRO_MIN = -250\n",
    "GYRO_MAX = 250\n",
    "GYRO_RANGE = GYRO_MAX - GYRO_MIN\n",
    "\n",
    "# Accelorometer reads in +- 2g\n",
    "ACCEL_MIN = -2\n",
    "ACCEL_MAX = 2\n",
    "ACCEL_RANGE = ACCEL_MAX - ACCEL_MIN\n",
    "\n",
    "# Sensor Raw (bit) value to physical value\n",
    "# val = (sensor_raw - IMU_MIN) / IMU_RANGE * sensor_range - sensor_max\n",
    "for col in ['ax', 'ay', 'az']:\n",
    "    df[col + '_g'] = (df[col] - IMU_MIN) / IMU_RANGE * ACCEL_RANGE + ACCEL_MIN\n",
    "\n",
    "for col in ['gx', 'gy', 'gz']:\n",
    "    df[col + '_dps'] = (df[col] - IMU_MIN) / IMU_RANGE * GYRO_RANGE + GYRO_MIN\n",
    "\n",
    "df.head()"
   ]
  },
  {
   "cell_type": "markdown",
   "metadata": {},
   "source": [
    "Allan Varaince code from *https://mwrona.com/posts/gyro-noise-analysis/*"
   ]
  },
  {
   "cell_type": "code",
   "execution_count": 17,
   "metadata": {},
   "outputs": [],
   "source": [
    "def AllanVariance(dataArr: np.ndarray, fs: float, maxNumM: int=100):\n",
    "    ts = 1.0 / fs\n",
    "    N = len(dataArr)\n",
    "    Mmax = 2**np.floor(np.log2(N / 2))\n",
    "    M = np.logspace(np.log10(1), np.log10(Mmax), num=maxNumM)\n",
    "    M = np.ceil(M)  # Round up to integer\n",
    "    M = np.unique(M)  # Remove duplicates\n",
    "    taus = M * ts  # Compute 'cluster durations' tau\n",
    "\n",
    "    # Compute Allan variance\n",
    "    allanVar = np.zeros(len(M))\n",
    "    for i, mi in enumerate(M):\n",
    "        twoMi = int(2 * mi)\n",
    "        mi = int(mi)\n",
    "        allanVar[i] = np.sum(\n",
    "            (dataArr[twoMi:N] - (2.0 * dataArr[mi:N-mi]) + dataArr[0:N-twoMi])**2\n",
    "        )\n",
    "    \n",
    "    allanVar /= (2.0 * taus**2) * (N - (2.0 * M))\n",
    "    return (taus, np.sqrt(allanVar))  # Return deviation (dev = sqrt(var))"
   ]
  },
  {
   "cell_type": "code",
   "execution_count": 18,
   "metadata": {},
   "outputs": [],
   "source": [
    "fs = 100\n",
    "taux, adx = AllanVariance(np.array(df['gx_dps']), fs, maxNumM=500)\n",
    "tauy, ady = AllanVariance(np.array(df['gy_dps']), fs, maxNumM=500)\n",
    "tauz, adz = AllanVariance(np.array(df['gz_dps']), fs, maxNumM=500)"
   ]
  },
  {
   "cell_type": "code",
   "execution_count": 19,
   "metadata": {},
   "outputs": [
    {
     "data": {
      "image/png": "[encoded data removed]",
      "text/plain": [
       "<Figure size 1008x432 with 1 Axes>"
      ]
     },
     "metadata": {
      "needs_background": "light"
     },
     "output_type": "display_data"
    }
   ],
   "source": [
    "plt.figure()\n",
    "plt.title('Gyro Allan Deviations')\n",
    "plt.plot(taux, adx, label='gx',lineWidth=1)\n",
    "plt.plot(tauy, ady, label='gy',lineWidth=1)\n",
    "plt.plot(tauz, adz, label='gz',lineWidth=1)\n",
    "plt.xlabel(r'$\\tau$ [sec]')\n",
    "plt.ylabel('Deviation [deg/sec]')\n",
    "plt.grid(True, which=\"both\", ls=\"-\", color='0.65')\n",
    "plt.legend()\n",
    "plt.xscale('log')\n",
    "plt.yscale('log')\n",
    "plt.show()"
   ]
  },
  {
   "cell_type": "code",
   "execution_count": 20,
   "metadata": {},
   "outputs": [
    {
     "data": {
      "image/png": "[encoded data removed]",
      "text/plain": [
       "<Figure size 1008x432 with 1 Axes>"
      ]
     },
     "metadata": {
      "needs_background": "light"
     },
     "output_type": "display_data"
    }
   ],
   "source": [
    "plt.figure()\n",
    "plt.title('Gyro Allan Deviations')\n",
    "plt.plot(taux, adx, label='gx',lineWidth=1)\n",
    "plt.plot(tauy, ady, label='gy',lineWidth=1)\n",
    "plt.plot(tauz, adz, label='gz',lineWidth=1)\n",
    "plt.xlabel(r'$\\tau$ [sec]')\n",
    "plt.ylabel('Deviation [deg/sec]')\n",
    "plt.grid(True, which=\"both\", ls=\"-\", color='0.65')\n",
    "plt.legend()\n",
    "plt.ylim([0, 0.05])\n",
    "plt.xlim([0,100])\n",
    "plt.show()"
   ]
  },
  {
   "cell_type": "markdown",
   "metadata": {},
   "source": [
    "From here initialization period $T_{init}$ = 60s."
   ]
  }
 ],
 "metadata": {
  "kernelspec": {
   "display_name": "base",
   "language": "python",
   "name": "python3"
  },
  "language_info": {
   "codemirror_mode": {
    "name": "ipython",
    "version": 3
   },
   "file_extension": ".py",
   "mimetype": "text/x-python",
   "name": "python",
   "nbconvert_exporter": "python",
   "pygments_lexer": "ipython3",
   "version": "3.9.7"
  },
  "orig_nbformat": 4,
  "vscode": {
   "interpreter": {
    "hash": "ad2bdc8ecc057115af97d19610ffacc2b4e99fae6737bb82f5d7fb13d2f2c186"
   }
  }
 },
 "nbformat": 4,
 "nbformat_minor": 2
}
