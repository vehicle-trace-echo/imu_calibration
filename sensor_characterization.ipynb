{
 "cells": [
  {
   "attachments": {},
   "cell_type": "markdown",
   "metadata": {},
   "source": [
    "# Characterization of Gyroscope Noise using Allan Deviation Plots"
   ]
  },
  {
   "cell_type": "code",
   "execution_count": 1,
   "metadata": {},
   "outputs": [],
   "source": [
    "import os\n",
    "import numpy as np\n",
    "import pandas as pd\n",
    "import math"
   ]
  },
  {
   "cell_type": "code",
   "execution_count": 2,
   "metadata": {},
   "outputs": [],
   "source": [
    "import matplotlib.pyplot as plt\n",
    "plt.style.use('seaborn-poster')\n",
    "plt.rcParams['figure.figsize'] = (14,6)"
   ]
  },
  {
   "cell_type": "code",
   "execution_count": 3,
   "metadata": {},
   "outputs": [],
   "source": [
    "path_data = os.path.join('data/AVPlots1.csv' )\n",
    "headers = ['time', 'ax', 'ay', 'az', 'gx', 'gy', 'gz']"
   ]
  },
  {
   "cell_type": "code",
   "execution_count": 4,
   "metadata": {},
   "outputs": [
    {
     "data": {
      "text/html": [
       "<div>\n",
       "<style scoped>\n",
       "    .dataframe tbody tr th:only-of-type {\n",
       "        vertical-align: middle;\n",
       "    }\n",
       "\n",
       "    .dataframe tbody tr th {\n",
       "        vertical-align: top;\n",
       "    }\n",
       "\n",
       "    .dataframe thead th {\n",
       "        text-align: right;\n",
       "    }\n",
       "</style>\n",
       "<table border=\"1\" class=\"dataframe\">\n",
       "  <thead>\n",
       "    <tr style=\"text-align: right;\">\n",
       "      <th></th>\n",
       "      <th>time</th>\n",
       "      <th>ax</th>\n",
       "      <th>ay</th>\n",
       "      <th>az</th>\n",
       "      <th>gx</th>\n",
       "      <th>gy</th>\n",
       "      <th>gz</th>\n",
       "    </tr>\n",
       "  </thead>\n",
       "  <tbody>\n",
       "    <tr>\n",
       "      <th>0</th>\n",
       "      <td>1.676352e+09</td>\n",
       "      <td>-966</td>\n",
       "      <td>-500</td>\n",
       "      <td>16534</td>\n",
       "      <td>-120</td>\n",
       "      <td>106</td>\n",
       "      <td>-29</td>\n",
       "    </tr>\n",
       "    <tr>\n",
       "      <th>1</th>\n",
       "      <td>1.676352e+09</td>\n",
       "      <td>-972</td>\n",
       "      <td>-506</td>\n",
       "      <td>16553</td>\n",
       "      <td>-121</td>\n",
       "      <td>106</td>\n",
       "      <td>-27</td>\n",
       "    </tr>\n",
       "    <tr>\n",
       "      <th>2</th>\n",
       "      <td>1.676352e+09</td>\n",
       "      <td>-968</td>\n",
       "      <td>-491</td>\n",
       "      <td>16570</td>\n",
       "      <td>-122</td>\n",
       "      <td>102</td>\n",
       "      <td>-24</td>\n",
       "    </tr>\n",
       "    <tr>\n",
       "      <th>3</th>\n",
       "      <td>1.676352e+09</td>\n",
       "      <td>-977</td>\n",
       "      <td>-493</td>\n",
       "      <td>16546</td>\n",
       "      <td>-122</td>\n",
       "      <td>104</td>\n",
       "      <td>-25</td>\n",
       "    </tr>\n",
       "    <tr>\n",
       "      <th>4</th>\n",
       "      <td>1.676352e+09</td>\n",
       "      <td>-968</td>\n",
       "      <td>-483</td>\n",
       "      <td>16551</td>\n",
       "      <td>-122</td>\n",
       "      <td>104</td>\n",
       "      <td>-30</td>\n",
       "    </tr>\n",
       "  </tbody>\n",
       "</table>\n",
       "</div>"
      ],
      "text/plain": [
       "           time   ax   ay     az   gx   gy  gz\n",
       "0  1.676352e+09 -966 -500  16534 -120  106 -29\n",
       "1  1.676352e+09 -972 -506  16553 -121  106 -27\n",
       "2  1.676352e+09 -968 -491  16570 -122  102 -24\n",
       "3  1.676352e+09 -977 -493  16546 -122  104 -25\n",
       "4  1.676352e+09 -968 -483  16551 -122  104 -30"
      ]
     },
     "execution_count": 4,
     "metadata": {},
     "output_type": "execute_result"
    }
   ],
   "source": [
    "df = pd.read_csv(path_data, names=headers)\n",
    "df.head()"
   ]
  },
  {
   "cell_type": "code",
   "execution_count": 5,
   "metadata": {},
   "outputs": [
    {
     "name": "stdout",
     "output_type": "stream",
     "text": [
      "<class 'pandas.core.frame.DataFrame'>\n",
      "RangeIndex: 618131 entries, 0 to 618130\n",
      "Data columns (total 7 columns):\n",
      " #   Column  Non-Null Count   Dtype  \n",
      "---  ------  --------------   -----  \n",
      " 0   time    618131 non-null  float64\n",
      " 1   ax      618131 non-null  int64  \n",
      " 2   ay      618131 non-null  int64  \n",
      " 3   az      618131 non-null  int64  \n",
      " 4   gx      618131 non-null  int64  \n",
      " 5   gy      618131 non-null  int64  \n",
      " 6   gz      618131 non-null  int64  \n",
      "dtypes: float64(1), int64(6)\n",
      "memory usage: 33.0 MB\n"
     ]
    }
   ],
   "source": [
    "df.info()"
   ]
  },
  {
   "cell_type": "code",
   "execution_count": 6,
   "metadata": {},
   "outputs": [
    {
     "data": {
      "text/html": [
       "<div>\n",
       "<style scoped>\n",
       "    .dataframe tbody tr th:only-of-type {\n",
       "        vertical-align: middle;\n",
       "    }\n",
       "\n",
       "    .dataframe tbody tr th {\n",
       "        vertical-align: top;\n",
       "    }\n",
       "\n",
       "    .dataframe thead th {\n",
       "        text-align: right;\n",
       "    }\n",
       "</style>\n",
       "<table border=\"1\" class=\"dataframe\">\n",
       "  <thead>\n",
       "    <tr style=\"text-align: right;\">\n",
       "      <th></th>\n",
       "      <th>time</th>\n",
       "      <th>ax</th>\n",
       "      <th>ay</th>\n",
       "      <th>az</th>\n",
       "      <th>gx</th>\n",
       "      <th>gy</th>\n",
       "      <th>gz</th>\n",
       "      <th>ax_g</th>\n",
       "      <th>ay_g</th>\n",
       "      <th>az_g</th>\n",
       "      <th>gx_dps</th>\n",
       "      <th>gy_dps</th>\n",
       "      <th>gz_dps</th>\n",
       "    </tr>\n",
       "  </thead>\n",
       "  <tbody>\n",
       "    <tr>\n",
       "      <th>0</th>\n",
       "      <td>1.676352e+09</td>\n",
       "      <td>-966</td>\n",
       "      <td>-500</td>\n",
       "      <td>16534</td>\n",
       "      <td>-120</td>\n",
       "      <td>106</td>\n",
       "      <td>-29</td>\n",
       "      <td>-0.058930</td>\n",
       "      <td>-0.030488</td>\n",
       "      <td>1.009201</td>\n",
       "      <td>-0.911727</td>\n",
       "      <td>0.812543</td>\n",
       "      <td>-0.217441</td>\n",
       "    </tr>\n",
       "    <tr>\n",
       "      <th>1</th>\n",
       "      <td>1.676352e+09</td>\n",
       "      <td>-972</td>\n",
       "      <td>-506</td>\n",
       "      <td>16553</td>\n",
       "      <td>-121</td>\n",
       "      <td>106</td>\n",
       "      <td>-27</td>\n",
       "      <td>-0.059297</td>\n",
       "      <td>-0.030854</td>\n",
       "      <td>1.010361</td>\n",
       "      <td>-0.919356</td>\n",
       "      <td>0.812543</td>\n",
       "      <td>-0.202182</td>\n",
       "    </tr>\n",
       "    <tr>\n",
       "      <th>2</th>\n",
       "      <td>1.676352e+09</td>\n",
       "      <td>-968</td>\n",
       "      <td>-491</td>\n",
       "      <td>16570</td>\n",
       "      <td>-122</td>\n",
       "      <td>102</td>\n",
       "      <td>-24</td>\n",
       "      <td>-0.059052</td>\n",
       "      <td>-0.029938</td>\n",
       "      <td>1.011398</td>\n",
       "      <td>-0.926986</td>\n",
       "      <td>0.782025</td>\n",
       "      <td>-0.179294</td>\n",
       "    </tr>\n",
       "    <tr>\n",
       "      <th>3</th>\n",
       "      <td>1.676352e+09</td>\n",
       "      <td>-977</td>\n",
       "      <td>-493</td>\n",
       "      <td>16546</td>\n",
       "      <td>-122</td>\n",
       "      <td>104</td>\n",
       "      <td>-25</td>\n",
       "      <td>-0.059602</td>\n",
       "      <td>-0.030060</td>\n",
       "      <td>1.009934</td>\n",
       "      <td>-0.926986</td>\n",
       "      <td>0.797284</td>\n",
       "      <td>-0.186923</td>\n",
       "    </tr>\n",
       "    <tr>\n",
       "      <th>4</th>\n",
       "      <td>1.676352e+09</td>\n",
       "      <td>-968</td>\n",
       "      <td>-483</td>\n",
       "      <td>16551</td>\n",
       "      <td>-122</td>\n",
       "      <td>104</td>\n",
       "      <td>-30</td>\n",
       "      <td>-0.059052</td>\n",
       "      <td>-0.029450</td>\n",
       "      <td>1.010239</td>\n",
       "      <td>-0.926986</td>\n",
       "      <td>0.797284</td>\n",
       "      <td>-0.225071</td>\n",
       "    </tr>\n",
       "  </tbody>\n",
       "</table>\n",
       "</div>"
      ],
      "text/plain": [
       "           time   ax   ay     az   gx   gy  gz      ax_g      ay_g      az_g  \\\n",
       "0  1.676352e+09 -966 -500  16534 -120  106 -29 -0.058930 -0.030488  1.009201   \n",
       "1  1.676352e+09 -972 -506  16553 -121  106 -27 -0.059297 -0.030854  1.010361   \n",
       "2  1.676352e+09 -968 -491  16570 -122  102 -24 -0.059052 -0.029938  1.011398   \n",
       "3  1.676352e+09 -977 -493  16546 -122  104 -25 -0.059602 -0.030060  1.009934   \n",
       "4  1.676352e+09 -968 -483  16551 -122  104 -30 -0.059052 -0.029450  1.010239   \n",
       "\n",
       "     gx_dps    gy_dps    gz_dps  \n",
       "0 -0.911727  0.812543 -0.217441  \n",
       "1 -0.919356  0.812543 -0.202182  \n",
       "2 -0.926986  0.782025 -0.179294  \n",
       "3 -0.926986  0.797284 -0.186923  \n",
       "4 -0.926986  0.797284 -0.225071  "
      ]
     },
     "execution_count": 6,
     "metadata": {},
     "output_type": "execute_result"
    }
   ],
   "source": [
    "# IMU data read through 16-bit signed A/D converter\n",
    "IMU_MAX = 32767\n",
    "IMU_MIN = -32768\n",
    "IMU_RANGE = IMU_MAX - IMU_MIN\n",
    "\n",
    "# Gyro reads in range +- 150 dps\n",
    "GYRO_MIN = -250\n",
    "GYRO_MAX = 250\n",
    "GYRO_RANGE = GYRO_MAX - GYRO_MIN\n",
    "\n",
    "# Accelorometer reads in +- 2g\n",
    "ACCEL_MIN = -2\n",
    "ACCEL_MAX = 2\n",
    "ACCEL_RANGE = ACCEL_MAX - ACCEL_MIN\n",
    "\n",
    "# Sensor Raw (bit) value to physical value\n",
    "# val = (sensor_raw - IMU_MIN) / IMU_RANGE * sensor_range - sensor_max\n",
    "for col in ['ax', 'ay', 'az']:\n",
    "    df[col + '_g'] = (df[col] - IMU_MIN) / IMU_RANGE * ACCEL_RANGE + ACCEL_MIN\n",
    "\n",
    "for col in ['gx', 'gy', 'gz']:\n",
    "    df[col + '_dps'] = (df[col] - IMU_MIN) / IMU_RANGE * GYRO_RANGE + GYRO_MIN\n",
    "\n",
    "df.head()"
   ]
  },
  {
   "cell_type": "markdown",
   "metadata": {},
   "source": [
    "Allan Varaince code from *https://mwrona.com/posts/gyro-noise-analysis/*"
   ]
  },
  {
   "cell_type": "code",
   "execution_count": 7,
   "metadata": {},
   "outputs": [],
   "source": [
    "def AllanVariance(dataArr: np.ndarray, fs: float, maxNumM: int=100):\n",
    "    ts = 1.0 / fs\n",
    "    N = len(dataArr)\n",
    "    Mmax = 2**np.floor(np.log2(N / 2))\n",
    "    M = np.logspace(np.log10(1), np.log10(Mmax), num=maxNumM)\n",
    "    M = np.ceil(M)  # Round up to integer\n",
    "    M = np.unique(M)  # Remove duplicates\n",
    "    taus = M * ts  # Compute 'cluster durations' tau\n",
    "\n",
    "    # Compute Allan variance\n",
    "    allanVar = np.zeros(len(M))\n",
    "    for i, mi in enumerate(M):\n",
    "        twoMi = int(2 * mi)\n",
    "        mi = int(mi)\n",
    "        allanVar[i] = np.sum(\n",
    "            (dataArr[twoMi:N] - (2.0 * dataArr[mi:N-mi]) + dataArr[0:N-twoMi])**2\n",
    "        )\n",
    "    \n",
    "    allanVar /= (2.0 * taus**2) * (N - (2.0 * M))\n",
    "    return (taus, np.sqrt(allanVar))  # Return deviation (dev = sqrt(var))"
   ]
  },
  {
   "cell_type": "code",
   "execution_count": 8,
   "metadata": {},
   "outputs": [],
   "source": [
    "fs = 100\n",
    "taux, adx = AllanVariance(np.array(df['gx_dps']), fs, maxNumM=200)\n",
    "tauy, ady = AllanVariance(np.array(df['gy_dps']), fs, maxNumM=200)\n",
    "tauz, adz = AllanVariance(np.array(df['gz_dps']), fs, maxNumM=200)"
   ]
  },
  {
   "cell_type": "code",
   "execution_count": 9,
   "metadata": {},
   "outputs": [
    {
     "data": {
      "image/png": "[encoded data removed]",
      "text/plain": [
       "<Figure size 1008x432 with 1 Axes>"
      ]
     },
     "metadata": {
      "needs_background": "light"
     },
     "output_type": "display_data"
    }
   ],
   "source": [
    "plt.figure()\n",
    "plt.title('Gyro Allan Deviations')\n",
    "plt.plot(taux, adx, label='gx',lineWidth=1)\n",
    "plt.plot(tauy, ady, label='gy',lineWidth=1)\n",
    "plt.plot(tauz, adz, label='gz',lineWidth=1)\n",
    "plt.xlabel(r'$\\tau$ [sec]')\n",
    "plt.ylabel('Deviation [deg/sec]')\n",
    "plt.grid(True, which=\"both\", ls=\"-\", color='0.65')\n",
    "plt.legend()\n",
    "plt.xscale('log')\n",
    "plt.yscale('log')\n",
    "plt.show()"
   ]
  },
  {
   "cell_type": "code",
   "execution_count": 10,
   "metadata": {},
   "outputs": [
    {
     "data": {
      "image/png": "[encoded data removed]",
      "text/plain": [
       "<Figure size 1008x432 with 1 Axes>"
      ]
     },
     "metadata": {
      "needs_background": "light"
     },
     "output_type": "display_data"
    }
   ],
   "source": [
    "plt.figure()\n",
    "plt.title('Gyro Allan Deviations')\n",
    "plt.plot(taux, adx, label='gx',lineWidth=1)\n",
    "plt.plot(tauy, ady, label='gy',lineWidth=1)\n",
    "plt.plot(tauz, adz, label='gz',lineWidth=1)\n",
    "plt.xlabel(r'$\\tau$ [sec]')\n",
    "plt.ylabel('Deviation [deg/sec]')\n",
    "plt.grid(True, which=\"both\", ls=\"-\", color='0.65')\n",
    "plt.legend()\n",
    "plt.ylim([0, 0.05])\n",
    "plt.xlim([0,100])\n",
    "plt.show()"
   ]
  },
  {
   "cell_type": "markdown",
   "metadata": {},
   "source": [
    "From here initialization period $T_{init}$ = 60s."
   ]
  }
 ],
 "metadata": {
  "kernelspec": {
   "display_name": "base",
   "language": "python",
   "name": "python3"
  },
  "language_info": {
   "codemirror_mode": {
    "name": "ipython",
    "version": 3
   },
   "file_extension": ".py",
   "mimetype": "text/x-python",
   "name": "python",
   "nbconvert_exporter": "python",
   "pygments_lexer": "ipython3",
   "version": "3.9.7"
  },
  "orig_nbformat": 4,
  "vscode": {
   "interpreter": {
    "hash": "ad2bdc8ecc057115af97d19610ffacc2b4e99fae6737bb82f5d7fb13d2f2c186"
   }
  }
 },
 "nbformat": 4,
 "nbformat_minor": 2
}
